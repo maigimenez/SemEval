{
 "cells": [
  {
   "cell_type": "code",
   "execution_count": 1,
   "metadata": {
    "collapsed": false
   },
   "outputs": [],
   "source": [
    "from os.path import join\n",
    "\n",
    "import pandas as pd\n",
    "import numpy as np\n",
    "\n",
    "import matplotlib\n",
    "%matplotlib inline\n",
    "import matplotlib.pyplot as plt"
   ]
  },
  {
   "cell_type": "code",
   "execution_count": 2,
   "metadata": {
    "collapsed": false
   },
   "outputs": [],
   "source": [
    "CORPORA_PATH = \"/home/mgimenez/Dev/corpora/SemEval/SemEval_2017/2017_English_final/2017_English_final/GOLD/Subtask_A\""
   ]
  },
  {
   "cell_type": "code",
   "execution_count": 3,
   "metadata": {
    "collapsed": false
   },
   "outputs": [],
   "source": [
    "TRAIN_FILE = join(CORPORA_PATH, \"twitter-2016train-A.txt\")\n",
    "TEST_FILE = join(CORPORA_PATH, \"twitter-2016test-A.txt\")"
   ]
  },
  {
   "cell_type": "code",
   "execution_count": 4,
   "metadata": {
    "collapsed": false
   },
   "outputs": [
    {
     "data": {
      "text/html": [
       "<div>\n",
       "<table border=\"1\" class=\"dataframe\">\n",
       "  <thead>\n",
       "    <tr style=\"text-align: right;\">\n",
       "      <th></th>\n",
       "      <th>sentiment</th>\n",
       "      <th>text</th>\n",
       "    </tr>\n",
       "  </thead>\n",
       "  <tbody>\n",
       "    <tr>\n",
       "      <th>628949369883000832</th>\n",
       "      <td>negative</td>\n",
       "      <td>dear @Microsoft the newOoffice for Mac is grea...</td>\n",
       "    </tr>\n",
       "    <tr>\n",
       "      <th>628976607420645377</th>\n",
       "      <td>negative</td>\n",
       "      <td>@Microsoft how about you make a system that do...</td>\n",
       "    </tr>\n",
       "    <tr>\n",
       "      <th>631543121407442946</th>\n",
       "      <td>negative</td>\n",
       "      <td>@Microsoft support for 365 has been terrible. ...</td>\n",
       "    </tr>\n",
       "    <tr>\n",
       "      <th>641643703996563459</th>\n",
       "      <td>positive</td>\n",
       "      <td>Google hangout anime session @RuffxRaiju  if c...</td>\n",
       "    </tr>\n",
       "    <tr>\n",
       "      <th>640698907878686724</th>\n",
       "      <td>positive</td>\n",
       "      <td>Dude, Bernie Sanders is going to be at the par...</td>\n",
       "    </tr>\n",
       "  </tbody>\n",
       "</table>\n",
       "</div>"
      ],
      "text/plain": [
       "                   sentiment  \\\n",
       "628949369883000832  negative   \n",
       "628976607420645377  negative   \n",
       "631543121407442946  negative   \n",
       "641643703996563459  positive   \n",
       "640698907878686724  positive   \n",
       "\n",
       "                                                                 text  \n",
       "628949369883000832  dear @Microsoft the newOoffice for Mac is grea...  \n",
       "628976607420645377  @Microsoft how about you make a system that do...  \n",
       "631543121407442946  @Microsoft support for 365 has been terrible. ...  \n",
       "641643703996563459  Google hangout anime session @RuffxRaiju  if c...  \n",
       "640698907878686724  Dude, Bernie Sanders is going to be at the par...  "
      ]
     },
     "execution_count": 4,
     "metadata": {},
     "output_type": "execute_result"
    }
   ],
   "source": [
    "train_file = open(TRAIN_FILE).readlines()\n",
    "dict_data = {int(l.split('\\t')[0]): [l.split('\\t')[1],l.split('\\t')[2]] for l in train_file}\n",
    "pd_train = pd.DataFrame.from_dict(dict_data, orient='index')\n",
    "pd_train.columns = ['sentiment', 'text']\n",
    "pd_train.head()"
   ]
  },
  {
   "cell_type": "code",
   "execution_count": 5,
   "metadata": {
    "collapsed": false
   },
   "outputs": [
    {
     "data": {
      "text/plain": [
       "(5975, 2)"
      ]
     },
     "execution_count": 5,
     "metadata": {},
     "output_type": "execute_result"
    }
   ],
   "source": [
    "pd_train.shape"
   ]
  },
  {
   "cell_type": "code",
   "execution_count": 6,
   "metadata": {
    "collapsed": false
   },
   "outputs": [
    {
     "data": {
      "text/plain": [
       "<matplotlib.axes._subplots.AxesSubplot at 0x7f44f425a748>"
      ]
     },
     "execution_count": 6,
     "metadata": {},
     "output_type": "execute_result"
    },
    {
     "data": {
      "image/png": "[encoded data removed]",
      "text/plain": [
       "<matplotlib.figure.Figure at 0x7f44f454c710>"
      ]
     },
     "metadata": {},
     "output_type": "display_data"
    }
   ],
   "source": [
    "pd_train.groupby('sentiment')['text'].count().plot(kind='bar')"
   ]
  }
 ],
 "metadata": {
  "kernelspec": {
   "display_name": "Python 3",
   "language": "python",
   "name": "python3"
  },
  "language_info": {
   "codemirror_mode": {
    "name": "ipython",
    "version": 3
   },
   "file_extension": ".py",
   "mimetype": "text/x-python",
   "name": "python",
   "nbconvert_exporter": "python",
   "pygments_lexer": "ipython3",
   "version": "3.5.2"
  }
 },
 "nbformat": 4,
 "nbformat_minor": 2
}
